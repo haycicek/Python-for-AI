{
 "cells": [
  {
   "cell_type": "code",
   "execution_count": 1,
   "id": "a0d94a4d-cc51-4b21-bd17-bd9d401054cf",
   "metadata": {},
   "outputs": [],
   "source": [
    "import numpy as np"
   ]
  },
  {
   "cell_type": "code",
   "execution_count": 4,
   "id": "b7aa78e6-7b31-4172-8505-37d98e7af903",
   "metadata": {},
   "outputs": [
    {
     "name": "stdout",
     "output_type": "stream",
     "text": [
      "np.array(): [1 2 3 4 5]\n"
     ]
    }
   ],
   "source": [
    "# 1. np.array() - Listeyi NumPy dizisine çevirir\n",
    "arr = np.array([1, 2, 3, 4, 5])\n",
    "print(\"np.array():\", arr)"
   ]
  },
  {
   "cell_type": "code",
   "execution_count": 5,
   "id": "3ba0d2f8-f73b-4c8c-8d33-1eff9ca241de",
   "metadata": {},
   "outputs": [
    {
     "name": "stdout",
     "output_type": "stream",
     "text": [
      "np.zeros(): [[0. 0. 0.]\n",
      " [0. 0. 0.]\n",
      " [0. 0. 0.]]\n"
     ]
    }
   ],
   "source": [
    "# 2. np.zeros() - Sıfırlardan oluşan bir dizi oluştur\n",
    "zeros_arr = np.zeros((3, 3))\n",
    "print(\"np.zeros():\", zeros_arr)"
   ]
  },
  {
   "cell_type": "code",
   "execution_count": 6,
   "id": "20a4b50d-93a8-4f7b-b546-f96259209b1b",
   "metadata": {},
   "outputs": [
    {
     "name": "stdout",
     "output_type": "stream",
     "text": [
      "np.ones(): [[1. 1. 1. 1.]\n",
      " [1. 1. 1. 1.]]\n"
     ]
    }
   ],
   "source": [
    "# 3. np.ones() - Birlerden oluşan bir dizi oluşturur\n",
    "ones_arr = np.ones((2, 4))\n",
    "print(\"np.ones():\", ones_arr)"
   ]
  },
  {
   "cell_type": "code",
   "execution_count": 7,
   "id": "3204582c-b6ec-4cc8-aac1-9b98c5011241",
   "metadata": {},
   "outputs": [
    {
     "name": "stdout",
     "output_type": "stream",
     "text": [
      "np.arange(): [0 2 4 6 8]\n"
     ]
    }
   ],
   "source": [
    "# 4. np.arange() - Belirli bir aralıkta düzenli artan sayılar üretir\n",
    "range_arr = np.arange(0, 10, 2)\n",
    "print(\"np.arange():\", range_arr)"
   ]
  },
  {
   "cell_type": "code",
   "execution_count": 8,
   "id": "16d2c390-ecf1-42ca-ab66-799887377ff8",
   "metadata": {},
   "outputs": [
    {
     "name": "stdout",
     "output_type": "stream",
     "text": [
      "np.linspace(): [ 0.   2.5  5.   7.5 10. ]\n"
     ]
    }
   ],
   "source": [
    "# 5. np.linspace() - Belirli iki sayı arasında eşit aralıklı sayılar üretir\n",
    "linspace_arr = np.linspace(0, 10, 5)\n",
    "print(\"np.linspace():\", linspace_arr)"
   ]
  },
  {
   "cell_type": "code",
   "execution_count": 9,
   "id": "28b2f6f6-3fa7-44cf-ac2f-db1a53fc6986",
   "metadata": {},
   "outputs": [
    {
     "name": "stdout",
     "output_type": "stream",
     "text": [
      "np.eye(): [[1. 0. 0.]\n",
      " [0. 1. 0.]\n",
      " [0. 0. 1.]]\n"
     ]
    }
   ],
   "source": [
    "# 6. np.eye() - Birim matris oluşturur\n",
    "eye_arr = np.eye(3)\n",
    "print(\"np.eye():\", eye_arr)"
   ]
  },
  {
   "cell_type": "code",
   "execution_count": 10,
   "id": "53f0cd24-4d4e-4fc7-a552-4c6e0900299b",
   "metadata": {},
   "outputs": [
    {
     "name": "stdout",
     "output_type": "stream",
     "text": [
      "np.random.rand(): [[0.57766928 0.87054146 0.32534442]\n",
      " [0.06175288 0.70902605 0.03094117]\n",
      " [0.54459084 0.6333682  0.82975015]]\n"
     ]
    }
   ],
   "source": [
    "# 7. np.random.rand() - 0 ile 1 arasında rastgele sayılar üretir\n",
    "rand_arr = np.random.rand(3, 3)\n",
    "print(\"np.random.rand():\", rand_arr)"
   ]
  },
  {
   "cell_type": "code",
   "execution_count": 14,
   "id": "15398797-4fca-493f-97a5-9f0077cdc9e1",
   "metadata": {},
   "outputs": [
    {
     "name": "stdout",
     "output_type": "stream",
     "text": [
      "np.reshape(): [[0 1 2]\n",
      " [3 4 5]\n",
      " [6 7 8]]\n"
     ]
    }
   ],
   "source": [
    "# 8. np.reshape() - Diziyi farklı bir şekle dönüştürür\n",
    "reshaped_arr = np.arange(9).reshape(3, 3)\n",
    "print(\"np.reshape():\", reshaped_arr)"
   ]
  },
  {
   "cell_type": "code",
   "execution_count": 15,
   "id": "59556b53-5c90-4c80-adc3-9e4fb75cdf55",
   "metadata": {},
   "outputs": [
    {
     "name": "stdout",
     "output_type": "stream",
     "text": [
      "np.sum(): 36\n"
     ]
    }
   ],
   "source": [
    "# 9. np.sum() - Dizinin toplamını hesaplar\n",
    "sum_arr = np.sum(reshaped_arr)\n",
    "print(\"np.sum():\", sum_arr)"
   ]
  },
  {
   "cell_type": "code",
   "execution_count": 16,
   "id": "70856232-9158-4322-bbc7-79e6d2341386",
   "metadata": {},
   "outputs": [
    {
     "name": "stdout",
     "output_type": "stream",
     "text": [
      "np.mean(): 4.0\n"
     ]
    }
   ],
   "source": [
    "# 10. np.mean() - Dizinin ortalamasını hesaplar\n",
    "mean_arr = np.mean(reshaped_arr)\n",
    "print(\"np.mean():\", mean_arr)"
   ]
  },
  {
   "cell_type": "code",
   "execution_count": 17,
   "id": "4d67f1b3-663e-491d-a2cf-a5832aa25e8a",
   "metadata": {},
   "outputs": [
    {
     "name": "stdout",
     "output_type": "stream",
     "text": [
      "np.std(): 2.581988897471611\n"
     ]
    }
   ],
   "source": [
    "# 11. np.std() - Dizinin standart sapmasını hesaplar\n",
    "std_arr = np.std(reshaped_arr)\n",
    "print(\"np.std():\", std_arr)"
   ]
  },
  {
   "cell_type": "code",
   "execution_count": 18,
   "id": "06ed2a1c-aef2-4e13-b223-07b606a0e4c0",
   "metadata": {},
   "outputs": [
    {
     "name": "stdout",
     "output_type": "stream",
     "text": [
      "np.dot(): [[19 22]\n",
      " [43 50]]\n"
     ]
    }
   ],
   "source": [
    "# 12. np.dot() - İki matrisin çarpımını hesaplar\n",
    "A = np.array([[1, 2], [3, 4]])\n",
    "B = np.array([[5, 6], [7, 8]])\n",
    "dot_product = np.dot(A, B)\n",
    "print(\"np.dot():\", dot_product)"
   ]
  },
  {
   "cell_type": "code",
   "execution_count": null,
   "id": "21d2ba76-8bd0-4521-ab61-ee8b4890fdec",
   "metadata": {},
   "outputs": [],
   "source": []
  }
 ],
 "metadata": {
  "kernelspec": {
   "display_name": "Python 3 (ipykernel)",
   "language": "python",
   "name": "python3"
  },
  "language_info": {
   "codemirror_mode": {
    "name": "ipython",
    "version": 3
   },
   "file_extension": ".py",
   "mimetype": "text/x-python",
   "name": "python",
   "nbconvert_exporter": "python",
   "pygments_lexer": "ipython3",
   "version": "3.12.4"
  }
 },
 "nbformat": 4,
 "nbformat_minor": 5
}
