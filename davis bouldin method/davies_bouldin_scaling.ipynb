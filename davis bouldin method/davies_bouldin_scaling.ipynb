{
  "cells": [
    {
      "cell_type": "markdown",
      "metadata": {},
      "source": [
        "# Özellik Ölçekleme (Scaling) Nedir?\n",
        "\n",
        "**Özellik Ölçekleme**, makine öğrenmesi modellerinin daha sağlıklı çalışabilmesi için veri setindeki özelliklerin benzer ölçeklere getirilmesidir. Özellikle mesafe tabanlı algoritmalar (örneğin K-Means, KNN) ve gradyan tabanlı optimizasyonlar kullanan algoritmalarda önemlidir.\n",
        "\n",
        "### Yaygın Ölçekleme Yöntemleri:\n",
        "- **Min-Max Scaling**: Veriyi 0 ile 1 arasına ölçekler.\n",
        "- **Standard Scaling (Z-score normalization)**: Ortalama 0, standart sapma 1 olacak şekilde dönüştürür.\n",
        "- **Robust Scaling**: Aykırı değerlere karşı daha dayanıklıdır, medyan ve IQR kullanır.\n",
        "\n",
        "**Sklearn ile Scaling Örneği:**\n",
        "```python\n",
        "from sklearn.preprocessing import MinMaxScaler, StandardScaler\n",
        "\n",
        "scaler = MinMaxScaler()\n",
        "scaled_data = scaler.fit_transform(veri)\n",
        "```\n"
      ]
    },
    {
      "cell_type": "markdown",
      "metadata": {},
      "source": [
        "# Davies-Bouldin Index Nedir?\n",
        "\n",
        "**Davies-Bouldin Index**, kümeleme sonuçlarının kalitesini değerlendiren bir metriktir. Her küme ile diğer kümeler arasındaki benzerlikleri ölçerek daha iyi ayrışmış kümelerin değerlendirilmesini sağlar.\n",
        "\n",
        "- Düşük Davies-Bouldin değeri daha iyi bir kümeleme anlamına gelir.\n",
        "- Bu metrikte her bir küme için diğer kümelere olan benzerlik hesaplanır.\n",
        "\n",
        "**Sklearn ile Uygulama:**\n",
        "`sklearn.metrics.davies_bouldin_score` fonksiyonu kullanılır."
      ]
    },
    {
      "cell_type": "code",
      "execution_count": null,
      "metadata": {},
      "outputs": [],
      "source": [
        "from sklearn.datasets import make_blobs\n",
        "from sklearn.cluster import KMeans\n",
        "from sklearn.metrics import davies_bouldin_score\n",
        "from sklearn.preprocessing import StandardScaler\n",
        "import matplotlib.pyplot as plt\n",
        "import seaborn as sns\n",
        "import pandas as pd\n",
        "\n",
        "# Veri seti oluşturalım\n",
        "X, y = make_blobs(n_samples=500, centers=4, cluster_std=0.6, random_state=0)\n",
        "\n",
        "# Özellik ölçekleme\n",
        "scaler = StandardScaler()\n",
        "X_scaled = scaler.fit_transform(X)\n",
        "\n",
        "# KMeans kümeleme\n",
        "kmeans = KMeans(n_clusters=4, random_state=0)\n",
        "labels = kmeans.fit_predict(X_scaled)\n",
        "\n",
        "# Davies-Bouldin skoru hesaplama\n",
        "db_score = davies_bouldin_score(X_scaled, labels)\n",
        "print(\"Davies-Bouldin Index:\", db_score)\n",
        "\n",
        "# Görselleştirme\n",
        "plt.scatter(X_scaled[:, 0], X_scaled[:, 1], c=labels, cmap='viridis')\n",
        "plt.title(\"Kümeleme Sonucu\")\n",
        "plt.xlabel(\"Özellik 1\")\n",
        "plt.ylabel(\"Özellik 2\")\n",
        "plt.show()"
      ]
    }
  ],
  "metadata": {
    "kernelspec": {
      "display_name": "Python 3",
      "language": "python",
      "name": "python3"
    },
    "language_info": {
      "name": "python",
      "version": "3.8"
    }
  },
  "nbformat": 4,
  "nbformat_minor": 2
}
