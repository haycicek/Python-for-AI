{
 "cells": [
  {
   "cell_type": "markdown",
   "id": "dd67c634",
   "metadata": {},
   "source": [
    "# 📘 OCR Nedir?\n",
    "\n",
    "Optik Karakter Tanıma (OCR), taranmış belgelerdeki, fotoğraflardaki ya da el yazısı metinlerdeki karakterleri tanıyan bir teknolojidir. OCR, görsellerdeki yazıları tanıyıp dijital metne dönüştürerek arama, düzenleme ve analiz yapmayı mümkün kılar.\n",
    "\n",
    "En yaygın kullanılan OCR motorlarından biri olan **Tesseract**, Google tarafından geliştirilmiş açık kaynaklı bir OCR sistemidir."
   ]
  },
  {
   "cell_type": "markdown",
   "id": "e71b42fe",
   "metadata": {},
   "source": [
    "## 🔧 Gerekli Kütüphaneler"
   ]
  },
  {
   "cell_type": "code",
   "execution_count": null,
   "id": "5c0d20b7",
   "metadata": {},
   "outputs": [],
   "source": [
    "!pip install pytesseract opencv-python matplotlib --quiet"
   ]
  },
  {
   "cell_type": "markdown",
   "id": "eab5f303",
   "metadata": {},
   "source": [
    "## 🖼️ Görsel Üzerinden Yazı Okuma Örneği"
   ]
  },
  {
   "cell_type": "code",
   "execution_count": null,
   "id": "80861ce4",
   "metadata": {},
   "outputs": [],
   "source": [
    "# Örnek görsel yüklenmeli (ornek_gorsel.png dosyası gereklidir)\n",
    "image = cv2.imread('ornek_gorsel.png')\n",
    "gray = cv2.cvtColor(image, cv2.COLOR_BGR2GRAY)\n",
    "\n",
    "# OCR ile metin okuma\n",
    "text = pytesseract.image_to_string(gray, lang='eng')\n",
    "print(\"OCR ile Okunan Metin:\\n\", text)\n",
    "\n",
    "# Görseli gösterme\n",
    "plt.imshow(gray, cmap='gray')\n",
    "plt.title(\"OCR Uygulanan Görsel\")\n",
    "plt.axis('off')\n",
    "plt.show()"
   ]
  },
  {
   "cell_type": "markdown",
   "id": "0e45f090",
   "metadata": {},
   "source": [
    "## 🔁 Modele OCR Entegrasyonu\n",
    "\n"
   ]
  },
  {
   "cell_type": "code",
   "execution_count": null,
   "id": "ea276fdd",
   "metadata": {},
   "outputs": [],
   "source": [
    "def gorsel_ve_ocr_analiz(image_path):\n",
    "    image = cv2.imread(image_path)\n",
    "    gray = cv2.cvtColor(image, cv2.COLOR_BGR2GRAY)\n",
    "    text = pytesseract.image_to_string(gray)\n",
    "    return text\n",
    "\n",
    "# Örnek kullanım\n",
    "ocr_sonuclari = gorsel_ve_ocr_analiz('ornek_gorsel.png')\n",
    "print(\"OCR Sonucu:\\n\", ocr_sonuclari)"
   ]
  }
 ],
 "metadata": {
  "language_info": {
   "name": "python"
  }
 },
 "nbformat": 4,
 "nbformat_minor": 5
}
