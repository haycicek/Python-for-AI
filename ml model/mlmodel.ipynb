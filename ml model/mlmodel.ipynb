{
 "cells": [
  {
   "cell_type": "code",
   "execution_count": 1,
   "id": "9b0d8b75-1448-4672-8ab6-906c543584b8",
   "metadata": {},
   "outputs": [
    {
     "name": "stdout",
     "output_type": "stream",
     "text": [
      "Requirement already satisfied: numpy in c:\\users\\victus\\.conda\\envs\\python_d\\lib\\site-packages (2.2.5)\n",
      "Requirement already satisfied: pandas in c:\\users\\victus\\.conda\\envs\\python_d\\lib\\site-packages (2.2.3)\n",
      "Requirement already satisfied: matplotlib in c:\\users\\victus\\.conda\\envs\\python_d\\lib\\site-packages (3.10.1)\n",
      "Requirement already satisfied: seaborn in c:\\users\\victus\\.conda\\envs\\python_d\\lib\\site-packages (0.13.2)\n",
      "Requirement already satisfied: scikit-learn in c:\\users\\victus\\.conda\\envs\\python_d\\lib\\site-packages (1.6.1)\n",
      "Requirement already satisfied: python-dateutil>=2.8.2 in c:\\users\\victus\\.conda\\envs\\python_d\\lib\\site-packages (from pandas) (2.9.0.post0)\n",
      "Requirement already satisfied: pytz>=2020.1 in c:\\users\\victus\\.conda\\envs\\python_d\\lib\\site-packages (from pandas) (2025.2)\n",
      "Requirement already satisfied: tzdata>=2022.7 in c:\\users\\victus\\.conda\\envs\\python_d\\lib\\site-packages (from pandas) (2025.2)\n",
      "Requirement already satisfied: contourpy>=1.0.1 in c:\\users\\victus\\.conda\\envs\\python_d\\lib\\site-packages (from matplotlib) (1.3.2)\n",
      "Requirement already satisfied: cycler>=0.10 in c:\\users\\victus\\.conda\\envs\\python_d\\lib\\site-packages (from matplotlib) (0.12.1)\n",
      "Requirement already satisfied: fonttools>=4.22.0 in c:\\users\\victus\\.conda\\envs\\python_d\\lib\\site-packages (from matplotlib) (4.57.0)\n",
      "Requirement already satisfied: kiwisolver>=1.3.1 in c:\\users\\victus\\.conda\\envs\\python_d\\lib\\site-packages (from matplotlib) (1.4.8)\n",
      "Requirement already satisfied: packaging>=20.0 in c:\\users\\victus\\.conda\\envs\\python_d\\lib\\site-packages (from matplotlib) (25.0)\n",
      "Requirement already satisfied: pillow>=8 in c:\\users\\victus\\.conda\\envs\\python_d\\lib\\site-packages (from matplotlib) (11.2.1)\n",
      "Requirement already satisfied: pyparsing>=2.3.1 in c:\\users\\victus\\.conda\\envs\\python_d\\lib\\site-packages (from matplotlib) (3.2.3)\n",
      "Requirement already satisfied: scipy>=1.6.0 in c:\\users\\victus\\.conda\\envs\\python_d\\lib\\site-packages (from scikit-learn) (1.15.2)\n",
      "Requirement already satisfied: joblib>=1.2.0 in c:\\users\\victus\\.conda\\envs\\python_d\\lib\\site-packages (from scikit-learn) (1.4.2)\n",
      "Requirement already satisfied: threadpoolctl>=3.1.0 in c:\\users\\victus\\.conda\\envs\\python_d\\lib\\site-packages (from scikit-learn) (3.6.0)\n",
      "Requirement already satisfied: six>=1.5 in c:\\users\\victus\\.conda\\envs\\python_d\\lib\\site-packages (from python-dateutil>=2.8.2->pandas) (1.17.0)\n"
     ]
    }
   ],
   "source": [
    "!pip install numpy pandas matplotlib seaborn scikit-learn"
   ]
  },
  {
   "cell_type": "code",
   "execution_count": 2,
   "id": "411572f1-0925-4e13-af0e-188a215f54ad",
   "metadata": {},
   "outputs": [],
   "source": [
    "import pandas as pd\n",
    "import numpy as np\n",
    "from sklearn.model_selection import train_test_split\n",
    "from sklearn.linear_model import LinearRegression\n",
    "from sklearn.tree import DecisionTreeRegressor\n",
    "from sklearn.ensemble import RandomForestRegressor\n",
    "from sklearn.metrics import mean_squared_error, r2_score"
   ]
  },
  {
   "cell_type": "code",
   "execution_count": 3,
   "id": "dd39951b-fe50-4519-893b-cddbdf43736f",
   "metadata": {},
   "outputs": [],
   "source": [
    "df = pd.read_csv(\"train.csv\")"
   ]
  },
  {
   "cell_type": "code",
   "execution_count": 4,
   "id": "0f11821b-6186-4944-bc7f-01bf7cfb507f",
   "metadata": {},
   "outputs": [],
   "source": [
    "df = df.drop(\"Id\", axis=1)"
   ]
  },
  {
   "cell_type": "code",
   "execution_count": 5,
   "id": "4f3bc735-baed-4fd5-80a6-7646f6a06627",
   "metadata": {},
   "outputs": [],
   "source": [
    "# Sayısal ve kategorik değişkenleri ayır\n",
    "num_cols = df.select_dtypes(include=[np.number]).columns.tolist()\n",
    "cat_cols = df.select_dtypes(include=[\"object\"]).columns.tolist()"
   ]
  },
  {
   "cell_type": "code",
   "execution_count": 8,
   "id": "471538c1-37ca-41b7-b66a-83daf54d35ca",
   "metadata": {},
   "outputs": [],
   "source": [
    "# Eksik sayısal verileri median ile dolduruldu\n",
    "df[num_cols] = df[num_cols].apply(lambda col: col.fillna(col.median()))"
   ]
  },
  {
   "cell_type": "code",
   "execution_count": 9,
   "id": "31d1a7eb-044c-4b9f-8499-fdf556989e34",
   "metadata": {},
   "outputs": [],
   "source": [
    "df[cat_cols] = df[cat_cols].apply(lambda col: col.fillna(col.mode()[0]))"
   ]
  },
  {
   "cell_type": "code",
   "execution_count": 10,
   "id": "dff97442-8665-40c9-81ca-6ce4bbff8940",
   "metadata": {},
   "outputs": [],
   "source": [
    "df = pd.get_dummies(df, columns=cat_cols, drop_first=True)"
   ]
  },
  {
   "cell_type": "code",
   "execution_count": 11,
   "id": "af5fdd5e-252a-4af2-997d-7b8ee195118a",
   "metadata": {},
   "outputs": [],
   "source": [
    "X = df.drop(\"SalePrice\", axis=1)\n",
    "y = df[\"SalePrice\"]"
   ]
  },
  {
   "cell_type": "code",
   "execution_count": 12,
   "id": "b3f0f8f4-43c7-400c-942f-c2b141b2d60a",
   "metadata": {},
   "outputs": [],
   "source": [
    "# Veriyi eğitim ve test olarak bölelim\n",
    "X_train, X_test, y_train, y_test = train_test_split(X, y, test_size=0.2, random_state=42)"
   ]
  },
  {
   "cell_type": "code",
   "execution_count": 13,
   "id": "3524606d-6d8a-44b8-9b0b-74403937af3e",
   "metadata": {},
   "outputs": [],
   "source": [
    "# Linear Regression\n",
    "lr = LinearRegression()\n",
    "lr.fit(X_train, y_train)\n",
    "y_pred_lr = lr.predict(X_test)\n",
    "\n",
    "# Decision Tree Regressor\n",
    "dt = DecisionTreeRegressor(random_state=42)\n",
    "dt.fit(X_train, y_train)\n",
    "y_pred_dt = dt.predict(X_test)\n",
    "\n",
    "# Random Forest Regressor\n",
    "rf = RandomForestRegressor(random_state=42, n_estimators=100)\n",
    "rf.fit(X_train, y_train)\n",
    "y_pred_rf = rf.predict(X_test)"
   ]
  },
  {
   "cell_type": "code",
   "execution_count": 14,
   "id": "dce60676-c107-4f12-9590-63868d6e07f3",
   "metadata": {},
   "outputs": [],
   "source": [
    "### 6. Performans Değerlendirme\n",
    "\n",
    "def evaluate_model(name, y_test, y_pred):\n",
    "    print(f\"{name} Sonuçları:\")\n",
    "    print(f\"R^2 Skoru: {r2_score(y_test, y_pred):.4f}\")\n",
    "    print(f\"Ortalama Kare Hatası (MSE): {mean_squared_error(y_test, y_pred):.2f}\\n\")"
   ]
  },
  {
   "cell_type": "code",
   "execution_count": 15,
   "id": "166c0e21-c80a-44dc-a304-52528d640c79",
   "metadata": {},
   "outputs": [
    {
     "name": "stdout",
     "output_type": "stream",
     "text": [
      "Linear Regression Sonuçları:\n",
      "R^2 Skoru: 0.6557\n",
      "Ortalama Kare Hatası (MSE): 2641205374.23\n",
      "\n",
      "Decision Tree Regression Sonuçları:\n",
      "R^2 Skoru: 0.7679\n",
      "Ortalama Kare Hatası (MSE): 1780392040.02\n",
      "\n",
      "Random Forest Regression Sonuçları:\n",
      "R^2 Skoru: 0.8913\n",
      "Ortalama Kare Hatası (MSE): 833572651.91\n",
      "\n"
     ]
    }
   ],
   "source": [
    "evaluate_model(\"Linear Regression\", y_test, y_pred_lr)\n",
    "evaluate_model(\"Decision Tree Regression\", y_test, y_pred_dt)\n",
    "evaluate_model(\"Random Forest Regression\", y_test, y_pred_rf)\n"
   ]
  },
  {
   "cell_type": "code",
   "execution_count": null,
   "id": "acd2facb-67c3-42fe-98a7-7cdaecfd3349",
   "metadata": {},
   "outputs": [],
   "source": []
  }
 ],
 "metadata": {
  "kernelspec": {
   "display_name": "Python (python_d)",
   "language": "python",
   "name": "python_d"
  },
  "language_info": {
   "codemirror_mode": {
    "name": "ipython",
    "version": 3
   },
   "file_extension": ".py",
   "mimetype": "text/x-python",
   "name": "python",
   "nbconvert_exporter": "python",
   "pygments_lexer": "ipython3",
   "version": "3.12.4"
  }
 },
 "nbformat": 4,
 "nbformat_minor": 5
}
